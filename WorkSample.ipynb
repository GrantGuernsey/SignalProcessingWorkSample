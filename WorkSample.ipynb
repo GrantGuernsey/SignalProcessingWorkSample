{
 "cells": [
  {
   "cell_type": "markdown",
   "metadata": {},
   "source": [
    "# Load in and view the data"
   ]
  },
  {
   "cell_type": "code",
   "execution_count": 110,
   "metadata": {},
   "outputs": [],
   "source": [
    "import pandas as pd\n",
    "import os\n",
    "import numpy as np\n",
    "import time\n",
    "def load_timeseries_data(directory:str):\n",
    "    # Load all of the  data into a single dataframe from a given directory by walking through the directory\n",
    "    # and loading each file into a dataframe\n",
    "    data = []\n",
    "    for root, _, files in os.walk(directory):\n",
    "        for file in files:\n",
    "            if file.endswith('.csv'):\n",
    "                series = pd.read_csv(os.path.join(root, file),header=0, index_col=0)\n",
    "                # Turn series to np array\n",
    "                series = series.to_numpy().flatten()\n",
    "                data += [series]\n",
    "    return data"
   ]
  },
  {
   "cell_type": "code",
   "execution_count": 77,
   "metadata": {},
   "outputs": [],
   "source": [
    "experimental_data = load_timeseries_data('signal_data/experimental')\n",
    "reference_data = load_timeseries_data('signal_data/reference')"
   ]
  },
  {
   "cell_type": "code",
   "execution_count": null,
   "metadata": {},
   "outputs": [],
   "source": [
    "len(experimental_data[0])"
   ]
  },
  {
   "cell_type": "code",
   "execution_count": null,
   "metadata": {},
   "outputs": [],
   "source": [
    "# View the first series as a graph of both the experimental and refrence data\n",
    "import matplotlib.pyplot as plt\n",
    "plt.plot(reference_data[0], label='Reference')\n",
    "plt.plot(experimental_data[0], label='Experimental')\n",
    "plt.legend()"
   ]
  },
  {
   "cell_type": "markdown",
   "metadata": {},
   "source": [
    "# Using Distance Time Warping"
   ]
  },
  {
   "cell_type": "code",
   "execution_count": 141,
   "metadata": {},
   "outputs": [],
   "source": [
    "window_size = 50\n",
    "\n",
    "# Generate sliding windows for each reference signal\n",
    "reference_windows = []\n",
    "timestamps = []\n",
    "series_indices = []\n",
    "\n",
    "for series_idx, series in enumerate(reference_data):\n",
    "    for i in range(len(series) - window_size):\n",
    "        window = series[i:i+window_size]\n",
    "        timestamp = i  # Example timestamp, replace with actual timestamp if available\n",
    "        timestamps.append(timestamp)\n",
    "        series_indices.append(series_idx)\n",
    "        reference_windows.append((window, len(timestamps) - 1))\n"
   ]
  },
  {
   "cell_type": "code",
   "execution_count": null,
   "metadata": {},
   "outputs": [],
   "source": [
    "from dtaidistance import dtw\n",
    "\n",
    "def find_best_match(signal: np.array, reference_windows: list):\n",
    "    lowest_distance = float('inf')\n",
    "    lowest_index = None\n",
    "    for idx, (window, info_idx) in enumerate(reference_windows):\n",
    "\n",
    "        # Calculate DTW distance between the experimental signal and the reference window\n",
    "        distance = dtw.distance_fast(signal, window, window=2)\n",
    "\n",
    "        # Find the lowest distance and the index of the lowest distance\n",
    "        if distance < lowest_distance:\n",
    "            lowest_distance = distance\n",
    "            lowest_index = idx\n",
    "\n",
    "    return lowest_index, lowest_distance\n",
    "\n",
    "def plot_results_of_match(signal, best_window, best_timestamp, best_initial_series, best_series_idx):\n",
    "    plt.figure(figsize=(12, 6))\n",
    "    plt.plot(best_window, label='Reference Window')\n",
    "    plt.plot(signal, label='Experimental')\n",
    "    plt.legend()\n",
    "    plt.title('Best Match')\n",
    "    plt.show()\n",
    "\n",
    "    # Show which initial signal was the best match\n",
    "    plt.figure(figsize=(12, 6))\n",
    "    plt.plot(best_initial_series, label='Reference')\n",
    "    plt.plot(range(best_timestamp, best_timestamp + len(best_window)), signal, label='Best Match')\n",
    "    # Start the best match at the timestamp\n",
    "    plt.legend()\n",
    "    plt.title(f'Best Match Comparison, Refrence #{best_series_idx}, Timestamp: {best_timestamp}')\n",
    "    plt.show()\n",
    "\n",
    "first_signal = np.array(experimental_data[2]).flatten()\n",
    "# Track the time to find the best match\n",
    "start = time.time()\n",
    "best_index, lowest_distance = find_best_match(first_signal, reference_windows)\n",
    "best_window, info_idx = reference_windows[best_index]\n",
    "best_timestamp = timestamps[info_idx]\n",
    "best_series_idx = series_indices[info_idx]\n",
    "end = time.time()\n",
    "print(f'Time to find best match: {end - start} seconds')\n",
    "# Retrieve the best match information\n",
    "\n",
    "plot_results_of_match(first_signal, best_window, best_timestamp, reference_data[best_series_idx], best_series_idx)\n",
    "\n"
   ]
  },
  {
   "cell_type": "code",
   "execution_count": null,
   "metadata": {},
   "outputs": [],
   "source": [
    "# Calculate the average time to find the best match for all experimental signals\n",
    "distances = []\n",
    "start = time.time()\n",
    "for signal in experimental_data:\n",
    "    _, lowest_distance = find_best_match(signal, reference_windows)\n",
    "    distances.append(lowest_distance)\n",
    "end = time.time()\n",
    "print(f'Average time to find best match: {(end - start) / len(experimental_data)} seconds')\n",
    "print(f'Average distance: {np.mean(distances)}')"
   ]
  },
  {
   "cell_type": "markdown",
   "metadata": {},
   "source": [
    "# Using ML"
   ]
  },
  {
   "cell_type": "code",
   "execution_count": null,
   "metadata": {},
   "outputs": [],
   "source": [
    "from sklearn.ensemble import RandomForestClassifier\n",
    "from sklearn.preprocessing import StandardScaler\n",
    "from sklearn.pipeline import make_pipeline\n",
    "from sklearn.model_selection import train_test_split\n",
    "from scipy.fftpack import fft\n",
    "\n",
    "# Function to extract features\n",
    "def extract_features(signal):\n",
    "    # Use FFT for frequency-domain features\n",
    "    fft_features = np.abs(fft(signal))[:len(signal)//2]\n",
    "    # Extract statistical features\n",
    "    return np.concatenate([\n",
    "        [np.mean(signal), np.std(signal), np.min(signal), np.max(signal)],\n",
    "        fft_features\n",
    "    ])\n",
    "\n",
    "def create_model(reference_windows):\n",
    "    # Create feature matrix for reference windows\n",
    "    X = np.array([extract_features(window) for window, _ in reference_windows])\n",
    "    y = np.array([idx for _, idx in reference_windows])\n",
    "\n",
    "    # Split into train and test for validation\n",
    "    X_train, X_test, y_train, y_test = train_test_split(X, y, test_size=0.1, random_state=42)\n",
    "\n",
    "    # Train a Random Forest classifier\n",
    "    model = make_pipeline(StandardScaler(), RandomForestClassifier(n_estimators=100, random_state=42))\n",
    "    model.fit(X_train, y_train)\n",
    "    return model\n",
    "\n",
    "def calc_best_from_top_3(model, new_signal, reference_windows):\n",
    "    # Predict probabilities for a new signal\n",
    "    new_signal_features = extract_features(new_signal).reshape(1, -1)\n",
    "    proba = model.predict_proba(new_signal_features).flatten()\n",
    "\n",
    "    # Get indices of the top 3 matches\n",
    "    top_3_indices = proba.argsort()[-3:][::-1]\n",
    "\n",
    "    # Compute DTW distance for the top 3 matches\n",
    "    dtw_results = []\n",
    "    for idx in top_3_indices:\n",
    "        window, _ = reference_windows[idx]\n",
    "        distance = dtw.distance_fast(new_signal, window)\n",
    "        dtw_results.append((distance, idx))\n",
    "\n",
    "    # Select the best match based on DTW distance\n",
    "    dtw_results.sort()  # Sort by distance\n",
    "    best_dtw_distance, best_dtw_index = dtw_results[0]\n",
    "\n",
    "    # Retrieve corresponding info\n",
    "    best_window, info_idx = reference_windows[best_dtw_index]\n",
    "    best_timestamp = timestamps[info_idx]\n",
    "    best_series_idx = series_indices[info_idx]\n",
    "    \n",
    "    return best_window, best_timestamp, best_series_idx, best_dtw_distance\n",
    "    \n",
    "\n",
    "# Create a model\n",
    "model = create_model(reference_windows)\n",
    "\n",
    "# Track the time to find the best match\n",
    "new_signal = np.array(experimental_data[1]).flatten()\n",
    "start = time.time()\n",
    "best_window, best_timestamp, best_series_idx, best_dtw_distance = calc_best_from_top_3(model, new_signal, reference_windows)\n",
    "end = time.time()\n",
    "print(f'Time to find best match: {end - start} seconds')\n",
    "\n",
    "\n",
    "plot_results_of_match(new_signal, best_window, best_timestamp, reference_data[best_series_idx], best_series_idx)\n"
   ]
  },
  {
   "cell_type": "code",
   "execution_count": null,
   "metadata": {},
   "outputs": [],
   "source": [
    "# Calculate the average time to find the best match for all experimental signals\n",
    "distances = []\n",
    "start = time.time()\n",
    "for signal in experimental_data:\n",
    "    _, _, _, best_dtw_distance = calc_best_from_top_3(model, signal, reference_windows)\n",
    "    distances.append(best_dtw_distance)\n",
    "end = time.time()\n",
    "print(f'Average time to find best match: {(end - start) / len(experimental_data)} seconds')\n",
    "print(f'Average distance: {np.mean(distances)}')"
   ]
  }
 ],
 "metadata": {
  "kernelspec": {
   "display_name": "WorkSampleVenv",
   "language": "python",
   "name": "python3"
  },
  "language_info": {
   "codemirror_mode": {
    "name": "ipython",
    "version": 3
   },
   "file_extension": ".py",
   "mimetype": "text/x-python",
   "name": "python",
   "nbconvert_exporter": "python",
   "pygments_lexer": "ipython3",
   "version": "3.12.5"
  }
 },
 "nbformat": 4,
 "nbformat_minor": 2
}
